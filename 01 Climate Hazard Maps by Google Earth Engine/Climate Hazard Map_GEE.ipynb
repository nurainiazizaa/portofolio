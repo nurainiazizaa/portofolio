{
 "cells": [
  {
   "cell_type": "code",
   "execution_count": 1,
   "metadata": {
    "id": "MARLK8LuGlwZ"
   },
   "outputs": [],
   "source": [
    "#FWI MAP\n",
    "###Import tools\n",
    "from input_fwi import GFS_MAP\n",
    "from fwi_calculator import FWICalculator"
   ]
  },
  {
   "cell_type": "code",
   "execution_count": 2,
   "metadata": {},
   "outputs": [
    {
     "data": {
      "text/html": [
       "<p>To authorize access needed by Earth Engine, open the following\n",
       "        URL in a web browser and follow the instructions:</p>\n",
       "        <p><a href=https://code.earthengine.google.com/client-auth?scopes=https%3A//www.googleapis.com/auth/earthengine%20https%3A//www.googleapis.com/auth/devstorage.full_control&request_id=0pKeeeWmdLWmHxak6jCzH1XApTaWjBPPN-_eoMiIvl4&tc=IapBZLXEy08Tt-Jc4xHjAzjWFlj8skbFKhZRYAvvb4A&cc=AqXW4ekGdPOrDcxM_YSsDbSHRnXnsKwQX-uH25gogh0>https://code.earthengine.google.com/client-auth?scopes=https%3A//www.googleapis.com/auth/earthengine%20https%3A//www.googleapis.com/auth/devstorage.full_control&request_id=0pKeeeWmdLWmHxak6jCzH1XApTaWjBPPN-_eoMiIvl4&tc=IapBZLXEy08Tt-Jc4xHjAzjWFlj8skbFKhZRYAvvb4A&cc=AqXW4ekGdPOrDcxM_YSsDbSHRnXnsKwQX-uH25gogh0</a></p>\n",
       "        <p>The authorization workflow will generate a code, which you should paste in the box below.</p>\n",
       "        "
      ],
      "text/plain": [
       "<IPython.core.display.HTML object>"
      ]
     },
     "metadata": {},
     "output_type": "display_data"
    },
    {
     "name": "stdout",
     "output_type": "stream",
     "text": [
      "Enter verification code: 4/1AfgeXvvOlD38c8Vn3scroJ4bFytXoHtmxf3IcyUtWbQtnQVhXFiXWHzjgJA\n",
      "\n",
      "Successfully saved authorization token.\n"
     ]
    }
   ],
   "source": [
    "###Authenticates and initializes Earth Engine\n",
    "import geemap as geemap\n",
    "import ee\n",
    "import eemont\n",
    "import ipyleaflet\n",
    "import datetime\n",
    "\n",
    "ee.Authenticate()\n",
    "ee.Initialize()"
   ]
  },
  {
   "cell_type": "code",
   "execution_count": 3,
   "metadata": {
    "id": "YcNl2urIH_Hl"
   },
   "outputs": [],
   "source": [
    "###Input date, timezone and boundary of data\n",
    "date = datetime.date.today() - datetime.timedelta(days=1)\n",
    "timezone = 'Asia/Jakarta'\n",
    "boundary = ee.Geometry.BBox(90, -15.0, 150.0, 15.0)\n",
    "\n",
    "###Calculate FWI\n",
    "inputs = GFS_MAP(date, timezone, boundary)\n",
    "calculator = FWICalculator(date, inputs)\n",
    "calculator.set_previous_codes()\n",
    "fwi = calculator.compute()\n",
    "\n",
    "###Create color palette\n",
    "vis_params = {\n",
    "    'min' : 0,\n",
    "    'max' : 64,\n",
    "    'palette' : ['blue', 'green', 'yellow', 'red']\n",
    "}\n",
    "\n",
    "###Select boundary of map that will show in Map\n",
    "###For Indonesia boundary, we select from FAO dataset\n",
    "indonesia = ee.FeatureCollection('FAO/GAUL/2015/level0') \\\n",
    "    .filter(ee.Filter.eq('ADM0_NAME', 'Indonesia'))\n",
    "fwi_map = fwi.clip(indonesia)"
   ]
  },
  {
   "cell_type": "code",
   "execution_count": 22,
   "metadata": {
    "colab": {
     "base_uri": "https://localhost:8080/",
     "height": 436
    },
    "id": "B289nbisz6Px",
    "outputId": "a0e9635d-8b67-4c2e-b6bb-dd73c76f3515",
    "scrolled": false
   },
   "outputs": [
    {
     "data": {
      "application/vnd.jupyter.widget-view+json": {
       "model_id": "cfbca3762b52412696341e8ea478c8d1",
       "version_major": 2,
       "version_minor": 0
      },
      "text/plain": [
       "Map(center=[0, 120], controls=(WidgetControl(options=['position', 'transparent_bg'], widget=HBox(children=(Tog…"
      ]
     },
     "execution_count": 22,
     "metadata": {},
     "output_type": "execute_result"
    }
   ],
   "source": [
    "###Visualize the map\n",
    "Map = geemap.Map(center=[0, 120], zoom= 4)\n",
    "Map.addLayer(fwi_map, vis_params, 'FWI');\n",
    "Map"
   ]
  },
  {
   "cell_type": "code",
   "execution_count": 5,
   "metadata": {},
   "outputs": [],
   "source": [
    "###Create geometry boundary to export the image\n",
    "indo_shape = indonesia.geometry()"
   ]
  },
  {
   "cell_type": "code",
   "execution_count": 6,
   "metadata": {},
   "outputs": [],
   "source": [
    "###Import os to input output path and fime name\n",
    "import os\n",
    "out_dir = os.path.join(os.path.expanduser('~'), 'Downloads')\n",
    "filename = os.path.join(out_dir, 'FWI.tif')"
   ]
  },
  {
   "cell_type": "code",
   "execution_count": 7,
   "metadata": {
    "scrolled": true
   },
   "outputs": [
    {
     "name": "stdout",
     "output_type": "stream",
     "text": [
      "Generating URL ...\n",
      "Downloading data from https://earthengine.googleapis.com/v1alpha/projects/earthengine-legacy/thumbnails/50ad4f9787a3624835311e7a971bf962-faf1c1efeb589db81e6c5bafe99a1a60:getPixels\n",
      "Please wait ...\n",
      "Data downloaded to C:\\Users\\Nuraini\\Downloads\\FWI.tif\n"
     ]
    }
   ],
   "source": [
    "###Export map\n",
    "geemap.ee_export_image(fwi, filename=filename, scale=1500, region=indo_shape, file_per_band=False)"
   ]
  },
  {
   "cell_type": "code",
   "execution_count": 27,
   "metadata": {},
   "outputs": [],
   "source": [
    "#SPI MAP\n",
    "### Set time of monthly length\n",
    "start = 31+28\n",
    "\n",
    "### Set time frame of running and download\n",
    "start_date = '1981-01-01'\n",
    "end_date = '2021-12-31'\n",
    "\n",
    "start_Download = '2022-01-01'\n",
    "end_Download = '2022-11-01'\n",
    "\n",
    "### Set resolution of our map\n",
    "resolution = 500\n",
    "\n",
    "### Long term average (LTA) can be generated directly from the pre-calculated Rainfall\n",
    "lta = ee.ImageCollection('UCSB-CHG/CHIRPS/DAILY').filter(ee.Filter.dayOfYear(start, start + 31)).filterDate(start_date, end_date)\n",
    "\n",
    "lta_mean = lta.select('precipitation').mean().clip(indonesia)\n",
    "lta_std = lta.reduce(ee.Reducer.stdDev()).clip(indonesia)\n",
    "\n",
    "### the latest rainfall\n",
    "latest = ee.ImageCollection('UCSB-CHG/CHIRPS/DAILY').filter(ee.Filter.dayOfYear(start, start + 31)).filterDate(start_Download, end_Download)\n",
    "\n",
    "rainfall_now = latest.select('precipitation').mean().clip(indonesia)\n",
    "\n",
    "\n",
    "### Calculating rainfall anomaly and standardized precipitation index \n",
    "anomaly = rainfall_now.divide(lta_mean).multiply(100)\n",
    "spi = rainfall_now.subtract(lta_mean).divide(lta_std)\n",
    "\n",
    "#Define a colour table\n",
    "red2blue = ['a60027','de3e2c','fa8b50','ffd485','e1e1e1','d3edf5','90c4de','5183bd','313694']\n",
    "rainfall_viz = {min:0, max:25, 'palette': ['B8810B', 'CB8C08', 'FFE47E','FFF2C1', 'DAF7A6', 'D2FFFF', '2DE7E7', '00B9D6', '008BD6', '006399']}\n",
    "rainanom_viz = {min:0, max:200, 'palette': red2blue}\n",
    "spicolor = ['0000aa','0000ff','00aaff','00ffff','aaff55','ffffff','ffff00','fcd37f','ffaa00','e60000','730000']\n",
    "spi_viz = {min:-2, max:2, 'palette': spicolor}\n",
    "\n"
   ]
  },
  {
   "cell_type": "code",
   "execution_count": 28,
   "metadata": {},
   "outputs": [
    {
     "name": "stdout",
     "output_type": "stream",
     "text": [
      "The observed time period of monthly SPI starts on  1981-01-01 and ends on 2021-12-31\n"
     ]
    },
    {
     "data": {
      "application/vnd.jupyter.widget-view+json": {
       "model_id": "88e3e30408614d54bdf2238ee00a78d6",
       "version_major": 2,
       "version_minor": 0
      },
      "text/plain": [
       "Map(center=[0, 120], controls=(WidgetControl(options=['position', 'transparent_bg'], widget=HBox(children=(Tog…"
      ]
     },
     "execution_count": 28,
     "metadata": {},
     "output_type": "execute_result"
    }
   ],
   "source": [
    "### Create Map\n",
    "print('The observed time period of monthly SPI starts on ',\n",
    "      start_date.format('YYYY-MM-dd'),\n",
    "      'and ends on',\n",
    "      end_date.format('YYYY-MM-dd'))\n",
    "\n",
    "Map1 = geemap.Map(center=[0, 120], zoom= 4)\n",
    "\n",
    "### Add the image to the map using both the color ramp and interval schemes.\n",
    "Map1.addLayer(anomaly, rainanom_viz, 'Anomaly (Indo2022-LTA)')\n",
    "Map1.addLayer(spi, spi_viz, 'SPI Indo2022')\n",
    "Map1"
   ]
  }
 ],
 "metadata": {
  "colab": {
   "provenance": []
  },
  "kernelspec": {
   "display_name": "Python 3 (ipykernel)",
   "language": "python",
   "name": "python3"
  },
  "language_info": {
   "codemirror_mode": {
    "name": "ipython",
    "version": 3
   },
   "file_extension": ".py",
   "mimetype": "text/x-python",
   "name": "python",
   "nbconvert_exporter": "python",
   "pygments_lexer": "ipython3",
   "version": "3.9.7"
  },
  "widgets": {
   "application/vnd.jupyter.widget-state+json": {
    "44f55512e72e4ffd92957b6523b48ad6": {
     "model_module": "jupyter-leaflet",
     "model_module_version": "^0.17",
     "model_name": "LeafletZoomControlModel",
     "state": {
      "_model_module": "jupyter-leaflet",
      "_model_module_version": "^0.17",
      "_model_name": "LeafletZoomControlModel",
      "_view_count": null,
      "_view_module": "jupyter-leaflet",
      "_view_module_version": "^0.17",
      "_view_name": "LeafletZoomControlView",
      "options": [
       "position",
       "zoom_in_text",
       "zoom_in_title",
       "zoom_out_text",
       "zoom_out_title"
      ],
      "position": "topleft",
      "zoom_in_text": "+",
      "zoom_in_title": "Zoom in",
      "zoom_out_text": "-",
      "zoom_out_title": "Zoom out"
     }
    },
    "560fdf8e7f0b44148d5bb8764fcf76b6": {
     "model_module": "jupyter-leaflet",
     "model_module_version": "^0.17",
     "model_name": "LeafletTileLayerModel",
     "state": {
      "_model_module": "jupyter-leaflet",
      "_model_module_version": "^0.17",
      "_model_name": "LeafletTileLayerModel",
      "_view_count": null,
      "_view_module": "jupyter-leaflet",
      "_view_module_version": "^0.17",
      "_view_name": "LeafletTileLayerView",
      "attribution": null,
      "base": false,
      "bottom": true,
      "bounds": null,
      "detect_retina": false,
      "loading": false,
      "max_native_zoom": null,
      "max_zoom": 18,
      "min_native_zoom": null,
      "min_zoom": 0,
      "name": "",
      "no_wrap": false,
      "opacity": 1,
      "options": [
       "attribution",
       "bounds",
       "detect_retina",
       "max_native_zoom",
       "max_zoom",
       "min_native_zoom",
       "min_zoom",
       "no_wrap",
       "tile_size",
       "tms",
       "zoom_offset"
      ],
      "pane": "",
      "popup": null,
      "popup_max_height": null,
      "popup_max_width": 300,
      "popup_min_width": 50,
      "show_loading": false,
      "subitems": [],
      "tile_size": 256,
      "tms": false,
      "url": "https://earthengine.googleapis.com/v1alpha/projects/earthengine-legacy/maps/8d216b7773d43cee53c31fd147730b17-78d3b9c8b7b083d0b22ee30bd2ad2dff/tiles/{z}/{x}/{y}",
      "visible": true,
      "zoom_offset": 0
     }
    },
    "aa5460034bb9436eb58a7d6f4c57208f": {
     "model_module": "jupyter-leaflet",
     "model_module_version": "^0.17",
     "model_name": "LeafletTileLayerModel",
     "state": {
      "_model_module": "jupyter-leaflet",
      "_model_module_version": "^0.17",
      "_model_name": "LeafletTileLayerModel",
      "_view_count": null,
      "_view_module": "jupyter-leaflet",
      "_view_module_version": "^0.17",
      "_view_name": "LeafletTileLayerView",
      "attribution": "&copy; <a href=\"https://www.openstreetmap.org/copyright\">OpenStreetMap</a> contributors",
      "base": true,
      "bottom": true,
      "bounds": null,
      "detect_retina": false,
      "loading": false,
      "max_native_zoom": null,
      "max_zoom": 19,
      "min_native_zoom": null,
      "min_zoom": 1,
      "name": "OpenStreetMap.Mapnik",
      "no_wrap": false,
      "opacity": 1,
      "options": [
       "attribution",
       "bounds",
       "detect_retina",
       "max_native_zoom",
       "max_zoom",
       "min_native_zoom",
       "min_zoom",
       "no_wrap",
       "tile_size",
       "tms",
       "zoom_offset"
      ],
      "pane": "",
      "popup": null,
      "popup_max_height": null,
      "popup_max_width": 300,
      "popup_min_width": 50,
      "show_loading": false,
      "subitems": [],
      "tile_size": 256,
      "tms": false,
      "url": "https://tile.openstreetmap.org/{z}/{x}/{y}.png",
      "visible": true,
      "zoom_offset": 0
     }
    },
    "ac20206d894c441eb68bcf416d97c21f": {
     "model_module": "@jupyter-widgets/base",
     "model_module_version": "1.2.0",
     "model_name": "LayoutModel",
     "state": {
      "_model_module": "@jupyter-widgets/base",
      "_model_module_version": "1.2.0",
      "_model_name": "LayoutModel",
      "_view_count": null,
      "_view_module": "@jupyter-widgets/base",
      "_view_module_version": "1.2.0",
      "_view_name": "LayoutView",
      "align_content": null,
      "align_items": null,
      "align_self": null,
      "border": null,
      "bottom": null,
      "display": null,
      "flex": null,
      "flex_flow": null,
      "grid_area": null,
      "grid_auto_columns": null,
      "grid_auto_flow": null,
      "grid_auto_rows": null,
      "grid_column": null,
      "grid_gap": null,
      "grid_row": null,
      "grid_template_areas": null,
      "grid_template_columns": null,
      "grid_template_rows": null,
      "height": null,
      "justify_content": null,
      "justify_items": null,
      "left": null,
      "margin": null,
      "max_height": null,
      "max_width": null,
      "min_height": null,
      "min_width": null,
      "object_fit": null,
      "object_position": null,
      "order": null,
      "overflow": null,
      "overflow_x": null,
      "overflow_y": null,
      "padding": null,
      "right": null,
      "top": null,
      "visibility": null,
      "width": null
     }
    },
    "babdd19497774806b93b2d2535f570e4": {
     "model_module": "jupyter-leaflet",
     "model_module_version": "^0.17",
     "model_name": "LeafletMapStyleModel",
     "state": {
      "_model_module": "jupyter-leaflet",
      "_model_module_version": "^0.17",
      "_model_name": "LeafletMapStyleModel",
      "_view_count": null,
      "_view_module": "@jupyter-widgets/base",
      "_view_module_version": "1.2.0",
      "_view_name": "StyleView",
      "cursor": "grab"
     }
    },
    "bd993bf82daf41599900a53169dde319": {
     "model_module": "jupyter-leaflet",
     "model_module_version": "^0.17",
     "model_name": "LeafletMapStyleModel",
     "state": {
      "_model_module": "jupyter-leaflet",
      "_model_module_version": "^0.17",
      "_model_name": "LeafletMapStyleModel",
      "_view_count": null,
      "_view_module": "@jupyter-widgets/base",
      "_view_module_version": "1.2.0",
      "_view_name": "StyleView",
      "cursor": "move"
     }
    },
    "da6b49fcb58543caa64e621ca14e1cb7": {
     "model_module": "jupyter-leaflet",
     "model_module_version": "^0.17",
     "model_name": "LeafletMapModel",
     "state": {
      "_dom_classes": [],
      "_model_module": "jupyter-leaflet",
      "_model_module_version": "^0.17",
      "_model_name": "LeafletMapModel",
      "_view_count": null,
      "_view_module": "jupyter-leaflet",
      "_view_module_version": "^0.17",
      "_view_name": "LeafletMapView",
      "bottom": 4357,
      "bounce_at_zoom_limits": true,
      "box_zoom": true,
      "center": [
       -2.67968661580376,
       120.76171875000001
      ],
      "close_popup_on_click": true,
      "controls": [
       "IPY_MODEL_44f55512e72e4ffd92957b6523b48ad6",
       "IPY_MODEL_dbfa31c99ba0416e9311b7e1304493cc"
      ],
      "crs": {
       "custom": false,
       "name": "EPSG3857"
      },
      "default_style": "IPY_MODEL_babdd19497774806b93b2d2535f570e4",
      "double_click_zoom": true,
      "dragging": true,
      "dragging_style": "IPY_MODEL_bd993bf82daf41599900a53169dde319",
      "east": 149.63378906250003,
      "fullscreen": false,
      "inertia": true,
      "inertia_deceleration": 3000,
      "inertia_max_speed": 1500,
      "interpolation": "bilinear",
      "keyboard": true,
      "keyboard_pan_offset": 80,
      "keyboard_zoom_offset": 1,
      "layers": [
       "IPY_MODEL_aa5460034bb9436eb58a7d6f4c57208f",
       "IPY_MODEL_560fdf8e7f0b44148d5bb8764fcf76b6"
      ],
      "layout": "IPY_MODEL_ac20206d894c441eb68bcf416d97c21f",
      "left": 6187,
      "max_zoom": null,
      "min_zoom": null,
      "modisdate": "2022-10-26",
      "north": 6.096859818887948,
      "options": [
       "bounce_at_zoom_limits",
       "box_zoom",
       "center",
       "close_popup_on_click",
       "double_click_zoom",
       "dragging",
       "fullscreen",
       "inertia",
       "inertia_deceleration",
       "inertia_max_speed",
       "interpolation",
       "keyboard",
       "keyboard_pan_offset",
       "keyboard_zoom_offset",
       "max_zoom",
       "min_zoom",
       "prefer_canvas",
       "scroll_wheel_zoom",
       "tap",
       "tap_tolerance",
       "touch_zoom",
       "world_copy_jump",
       "zoom",
       "zoom_animation_threshold",
       "zoom_delta",
       "zoom_snap"
      ],
      "panes": {},
      "prefer_canvas": false,
      "right": 7501,
      "scroll_wheel_zoom": false,
      "south": -11.39387923296741,
      "style": "IPY_MODEL_babdd19497774806b93b2d2535f570e4",
      "tap": true,
      "tap_tolerance": 15,
      "top": 3957,
      "touch_zoom": true,
      "west": 91.8896484375,
      "window_url": "https://9pwfq7seka-496ff2e9c6d22116-0-colab.googleusercontent.com/outputframe.html?vrz=colab-20221025-060104-RC00_483625937",
      "world_copy_jump": false,
      "zoom": 5,
      "zoom_animation_threshold": 4,
      "zoom_delta": 1,
      "zoom_snap": 1
     }
    },
    "dbfa31c99ba0416e9311b7e1304493cc": {
     "model_module": "jupyter-leaflet",
     "model_module_version": "^0.17",
     "model_name": "LeafletAttributionControlModel",
     "state": {
      "_model_module": "jupyter-leaflet",
      "_model_module_version": "^0.17",
      "_model_name": "LeafletAttributionControlModel",
      "_view_count": null,
      "_view_module": "jupyter-leaflet",
      "_view_module_version": "^0.17",
      "_view_name": "LeafletAttributionControlView",
      "options": [
       "position",
       "prefix"
      ],
      "position": "bottomright",
      "prefix": "ipyleaflet"
     }
    },
    "f22e47f10cd44218978e43b79f733a65": {
     "model_module": "jupyter-leaflet",
     "model_module_version": "^0.17",
     "model_name": "LeafletMapStyleModel",
     "state": {
      "_model_module": "jupyter-leaflet",
      "_model_module_version": "^0.17",
      "_model_name": "LeafletMapStyleModel",
      "_view_count": null,
      "_view_module": "@jupyter-widgets/base",
      "_view_module_version": "1.2.0",
      "_view_name": "StyleView",
      "cursor": "grab"
     }
    }
   }
  }
 },
 "nbformat": 4,
 "nbformat_minor": 1
}
